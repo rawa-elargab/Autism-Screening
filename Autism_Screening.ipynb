{
  "nbformat": 4,
  "nbformat_minor": 0,
  "metadata": {
    "colab": {
      "provenance": [],
      "include_colab_link": true
    },
    "kernelspec": {
      "name": "python3",
      "display_name": "Python 3"
    },
    "language_info": {
      "name": "python"
    }
  },
  "cells": [
    {
      "cell_type": "markdown",
      "metadata": {
        "id": "view-in-github",
        "colab_type": "text"
      },
      "source": [
        "<a href=\"https://colab.research.google.com/github/rawa-elargab/Autism-Screening/blob/main/Autism_Screening.ipynb\" target=\"_parent\"><img src=\"https://colab.research.google.com/assets/colab-badge.svg\" alt=\"Open In Colab\"/></a>"
      ]
    },
    {
      "cell_type": "markdown",
      "source": [
        "#Autism Spectrum Disorder Screening Classification for Adolescents"
      ],
      "metadata": {
        "id": "bzf9Qno99MCX"
      }
    },
    {
      "cell_type": "markdown",
      "source": [
        "Autistic Spectrum Disorder (ASD) is a neurodevelopmental disorder associated with significant healthcare costs, which can be significantly reduced with early detection. Unfortunately, the wait for an ASD diagnosis tends to be a long process, and the procedures are not cost effective. The economic impact of autism, along with the rise in the number of ASD cases worldwide, highlight the urgent need for the development of simple and effective screening methods. As a result, a time-efficient and easily accessible ASD screening is on the horizon to assist health professionals and inform individuals about whether they should pursue formal clinical diagnosis.\n",
        "The rapid increase in the number of ASD cases worldwide necessitates the creation of datasets pertaining to behavioral traits. However, such datasets are scarce, making thorough analysis to improve the efficiency, sensitivity, specificity, and predictive accuracy of the ASD screening process difficult. There are currently very few autism datasets associated with clinical or screening purposes, and the majority of them are genetic in nature. As a result, we chose to study a new dataset for autism screening of adolescents that contains 20 features that can be used for further analysis to define key autistic traits and improve ASD case classification. \n"
      ],
      "metadata": {
        "id": "HPbKM-zi_v-K"
      }
    },
    {
      "cell_type": "markdown",
      "source": [
        "#Import Dataset"
      ],
      "metadata": {
        "id": "2eXmTdVXET4S"
      }
    },
    {
      "cell_type": "markdown",
      "source": [
        "For this Assignment, we selected the Autistic Spectrum Disorder Screening Data for Adolescent Data Set ([link text](https://archive.ics.uci.edu/ml/datasets/Autistic+Spectrum+Disorder+Screening+Data+for+Adolescent+++#)). It is a dataset related to adolescent autism screening that contains 20 features to be used for further analysis, particularly in determining influential autistic traits and improving Autistic Spectrum Disorder case classification. In this dataset, ten behavioral features (AQ-10-Adolescent) are recorded, as well as ten individual characteristics that have been shown in behavior science to be effective in distinguishing ASD cases from controls.\n",
        "\n",
        "---\n",
        "\n"
      ],
      "metadata": {
        "id": "zkf0C-Nd8gVI"
      }
    },
    {
      "cell_type": "code",
      "execution_count": null,
      "metadata": {
        "id": "nZXtSwMGECvg"
      },
      "outputs": [],
      "source": [
        "import os\n",
        "import pandas as pd\n",
        "import matplotlib.pyplot as plt\n",
        "import numpy as np\n",
        "%matplotlib inline"
      ]
    },
    {
      "cell_type": "code",
      "source": [
        "from google.colab import drive\n",
        "drive.mount('/content/gdrive' , force_remount=True)"
      ],
      "metadata": {
        "colab": {
          "base_uri": "https://localhost:8080/"
        },
        "id": "lJ-0Y6TZE5Jc",
        "outputId": "96a362d5-57db-437a-8d14-4e47ec9012d2"
      },
      "execution_count": null,
      "outputs": [
        {
          "output_type": "stream",
          "name": "stdout",
          "text": [
            "Mounted at /content/gdrive\n"
          ]
        }
      ]
    },
    {
      "cell_type": "code",
      "source": [
        "ASD_df = pd.read_csv(\"/content/gdrive/MyDrive/Assignment 2 - ML/Autism-Adolescent-Data.csv\")\n",
        "\n",
        "del ASD_df['id']\n",
        "ASD_df.head()"
      ],
      "metadata": {
        "colab": {
          "base_uri": "https://localhost:8080/",
          "height": 357
        },
        "id": "Mait5n91G-pC",
        "outputId": "5c937f9d-5137-40ff-d4fb-636dbd88fa03"
      },
      "execution_count": null,
      "outputs": [
        {
          "output_type": "execute_result",
          "data": {
            "text/html": [
              "\n",
              "  <div id=\"df-1f4f201f-4057-4083-b5ae-358c41ac600a\">\n",
              "    <div class=\"colab-df-container\">\n",
              "      <div>\n",
              "<style scoped>\n",
              "    .dataframe tbody tr th:only-of-type {\n",
              "        vertical-align: middle;\n",
              "    }\n",
              "\n",
              "    .dataframe tbody tr th {\n",
              "        vertical-align: top;\n",
              "    }\n",
              "\n",
              "    .dataframe thead th {\n",
              "        text-align: right;\n",
              "    }\n",
              "</style>\n",
              "<table border=\"1\" class=\"dataframe\">\n",
              "  <thead>\n",
              "    <tr style=\"text-align: right;\">\n",
              "      <th></th>\n",
              "      <th>A1_Score</th>\n",
              "      <th>A2_Score</th>\n",
              "      <th>A3_Score</th>\n",
              "      <th>A4_Score</th>\n",
              "      <th>A5_Score</th>\n",
              "      <th>A6_Score</th>\n",
              "      <th>A7_Score</th>\n",
              "      <th>A8_Score</th>\n",
              "      <th>A9_Score</th>\n",
              "      <th>A10_Score</th>\n",
              "      <th>age</th>\n",
              "      <th>gender</th>\n",
              "      <th>ethnicity</th>\n",
              "      <th>jundice</th>\n",
              "      <th>austim</th>\n",
              "      <th>contry_of_res</th>\n",
              "      <th>used_app_before</th>\n",
              "      <th>result</th>\n",
              "      <th>age_desc</th>\n",
              "      <th>relation</th>\n",
              "      <th>Class/ASD</th>\n",
              "    </tr>\n",
              "  </thead>\n",
              "  <tbody>\n",
              "    <tr>\n",
              "      <th>0</th>\n",
              "      <td>0</td>\n",
              "      <td>0</td>\n",
              "      <td>0</td>\n",
              "      <td>1</td>\n",
              "      <td>1</td>\n",
              "      <td>1</td>\n",
              "      <td>1</td>\n",
              "      <td>1</td>\n",
              "      <td>1</td>\n",
              "      <td>0</td>\n",
              "      <td>15</td>\n",
              "      <td>m</td>\n",
              "      <td>Hispanic</td>\n",
              "      <td>yes</td>\n",
              "      <td>yes</td>\n",
              "      <td>Austria</td>\n",
              "      <td>no</td>\n",
              "      <td>6</td>\n",
              "      <td>12-16 years</td>\n",
              "      <td>Parent</td>\n",
              "      <td>NO</td>\n",
              "    </tr>\n",
              "    <tr>\n",
              "      <th>1</th>\n",
              "      <td>0</td>\n",
              "      <td>0</td>\n",
              "      <td>0</td>\n",
              "      <td>0</td>\n",
              "      <td>0</td>\n",
              "      <td>0</td>\n",
              "      <td>0</td>\n",
              "      <td>0</td>\n",
              "      <td>1</td>\n",
              "      <td>1</td>\n",
              "      <td>15</td>\n",
              "      <td>m</td>\n",
              "      <td>Black</td>\n",
              "      <td>no</td>\n",
              "      <td>no</td>\n",
              "      <td>Austria</td>\n",
              "      <td>no</td>\n",
              "      <td>2</td>\n",
              "      <td>12-16 years</td>\n",
              "      <td>Relative</td>\n",
              "      <td>NO</td>\n",
              "    </tr>\n",
              "    <tr>\n",
              "      <th>2</th>\n",
              "      <td>0</td>\n",
              "      <td>0</td>\n",
              "      <td>0</td>\n",
              "      <td>0</td>\n",
              "      <td>0</td>\n",
              "      <td>0</td>\n",
              "      <td>0</td>\n",
              "      <td>0</td>\n",
              "      <td>1</td>\n",
              "      <td>1</td>\n",
              "      <td>12</td>\n",
              "      <td>f</td>\n",
              "      <td>?</td>\n",
              "      <td>no</td>\n",
              "      <td>no</td>\n",
              "      <td>AmericanSamoa</td>\n",
              "      <td>no</td>\n",
              "      <td>2</td>\n",
              "      <td>12-16 years</td>\n",
              "      <td>?</td>\n",
              "      <td>NO</td>\n",
              "    </tr>\n",
              "    <tr>\n",
              "      <th>3</th>\n",
              "      <td>0</td>\n",
              "      <td>1</td>\n",
              "      <td>1</td>\n",
              "      <td>1</td>\n",
              "      <td>1</td>\n",
              "      <td>1</td>\n",
              "      <td>0</td>\n",
              "      <td>1</td>\n",
              "      <td>1</td>\n",
              "      <td>0</td>\n",
              "      <td>14</td>\n",
              "      <td>f</td>\n",
              "      <td>White-European</td>\n",
              "      <td>no</td>\n",
              "      <td>no</td>\n",
              "      <td>United Kingdom</td>\n",
              "      <td>no</td>\n",
              "      <td>7</td>\n",
              "      <td>12-16 years</td>\n",
              "      <td>Self</td>\n",
              "      <td>YES</td>\n",
              "    </tr>\n",
              "    <tr>\n",
              "      <th>4</th>\n",
              "      <td>1</td>\n",
              "      <td>1</td>\n",
              "      <td>1</td>\n",
              "      <td>1</td>\n",
              "      <td>1</td>\n",
              "      <td>1</td>\n",
              "      <td>1</td>\n",
              "      <td>0</td>\n",
              "      <td>0</td>\n",
              "      <td>0</td>\n",
              "      <td>16</td>\n",
              "      <td>f</td>\n",
              "      <td>?</td>\n",
              "      <td>no</td>\n",
              "      <td>no</td>\n",
              "      <td>Albania</td>\n",
              "      <td>no</td>\n",
              "      <td>7</td>\n",
              "      <td>12-16 years</td>\n",
              "      <td>?</td>\n",
              "      <td>YES</td>\n",
              "    </tr>\n",
              "  </tbody>\n",
              "</table>\n",
              "</div>\n",
              "      <button class=\"colab-df-convert\" onclick=\"convertToInteractive('df-1f4f201f-4057-4083-b5ae-358c41ac600a')\"\n",
              "              title=\"Convert this dataframe to an interactive table.\"\n",
              "              style=\"display:none;\">\n",
              "        \n",
              "  <svg xmlns=\"http://www.w3.org/2000/svg\" height=\"24px\"viewBox=\"0 0 24 24\"\n",
              "       width=\"24px\">\n",
              "    <path d=\"M0 0h24v24H0V0z\" fill=\"none\"/>\n",
              "    <path d=\"M18.56 5.44l.94 2.06.94-2.06 2.06-.94-2.06-.94-.94-2.06-.94 2.06-2.06.94zm-11 1L8.5 8.5l.94-2.06 2.06-.94-2.06-.94L8.5 2.5l-.94 2.06-2.06.94zm10 10l.94 2.06.94-2.06 2.06-.94-2.06-.94-.94-2.06-.94 2.06-2.06.94z\"/><path d=\"M17.41 7.96l-1.37-1.37c-.4-.4-.92-.59-1.43-.59-.52 0-1.04.2-1.43.59L10.3 9.45l-7.72 7.72c-.78.78-.78 2.05 0 2.83L4 21.41c.39.39.9.59 1.41.59.51 0 1.02-.2 1.41-.59l7.78-7.78 2.81-2.81c.8-.78.8-2.07 0-2.86zM5.41 20L4 18.59l7.72-7.72 1.47 1.35L5.41 20z\"/>\n",
              "  </svg>\n",
              "      </button>\n",
              "      \n",
              "  <style>\n",
              "    .colab-df-container {\n",
              "      display:flex;\n",
              "      flex-wrap:wrap;\n",
              "      gap: 12px;\n",
              "    }\n",
              "\n",
              "    .colab-df-convert {\n",
              "      background-color: #E8F0FE;\n",
              "      border: none;\n",
              "      border-radius: 50%;\n",
              "      cursor: pointer;\n",
              "      display: none;\n",
              "      fill: #1967D2;\n",
              "      height: 32px;\n",
              "      padding: 0 0 0 0;\n",
              "      width: 32px;\n",
              "    }\n",
              "\n",
              "    .colab-df-convert:hover {\n",
              "      background-color: #E2EBFA;\n",
              "      box-shadow: 0px 1px 2px rgba(60, 64, 67, 0.3), 0px 1px 3px 1px rgba(60, 64, 67, 0.15);\n",
              "      fill: #174EA6;\n",
              "    }\n",
              "\n",
              "    [theme=dark] .colab-df-convert {\n",
              "      background-color: #3B4455;\n",
              "      fill: #D2E3FC;\n",
              "    }\n",
              "\n",
              "    [theme=dark] .colab-df-convert:hover {\n",
              "      background-color: #434B5C;\n",
              "      box-shadow: 0px 1px 3px 1px rgba(0, 0, 0, 0.15);\n",
              "      filter: drop-shadow(0px 1px 2px rgba(0, 0, 0, 0.3));\n",
              "      fill: #FFFFFF;\n",
              "    }\n",
              "  </style>\n",
              "\n",
              "      <script>\n",
              "        const buttonEl =\n",
              "          document.querySelector('#df-1f4f201f-4057-4083-b5ae-358c41ac600a button.colab-df-convert');\n",
              "        buttonEl.style.display =\n",
              "          google.colab.kernel.accessAllowed ? 'block' : 'none';\n",
              "\n",
              "        async function convertToInteractive(key) {\n",
              "          const element = document.querySelector('#df-1f4f201f-4057-4083-b5ae-358c41ac600a');\n",
              "          const dataTable =\n",
              "            await google.colab.kernel.invokeFunction('convertToInteractive',\n",
              "                                                     [key], {});\n",
              "          if (!dataTable) return;\n",
              "\n",
              "          const docLinkHtml = 'Like what you see? Visit the ' +\n",
              "            '<a target=\"_blank\" href=https://colab.research.google.com/notebooks/data_table.ipynb>data table notebook</a>'\n",
              "            + ' to learn more about interactive tables.';\n",
              "          element.innerHTML = '';\n",
              "          dataTable['output_type'] = 'display_data';\n",
              "          await google.colab.output.renderOutput(dataTable, element);\n",
              "          const docLink = document.createElement('div');\n",
              "          docLink.innerHTML = docLinkHtml;\n",
              "          element.appendChild(docLink);\n",
              "        }\n",
              "      </script>\n",
              "    </div>\n",
              "  </div>\n",
              "  "
            ],
            "text/plain": [
              "   A1_Score  A2_Score  A3_Score  ...     age_desc  relation  Class/ASD\n",
              "0         0         0         0  ...  12-16 years    Parent         NO\n",
              "1         0         0         0  ...  12-16 years  Relative         NO\n",
              "2         0         0         0  ...  12-16 years         ?         NO\n",
              "3         0         1         1  ...  12-16 years      Self        YES\n",
              "4         1         1         1  ...  12-16 years         ?        YES\n",
              "\n",
              "[5 rows x 21 columns]"
            ]
          },
          "metadata": {},
          "execution_count": 3
        }
      ]
    },
    {
      "cell_type": "code",
      "source": [
        "ASD_df.info()"
      ],
      "metadata": {
        "colab": {
          "base_uri": "https://localhost:8080/"
        },
        "id": "arUlQ1xUYreE",
        "outputId": "4dfcf4c1-50fc-48ae-b474-b7a4bdceaa2f"
      },
      "execution_count": null,
      "outputs": [
        {
          "output_type": "stream",
          "name": "stdout",
          "text": [
            "<class 'pandas.core.frame.DataFrame'>\n",
            "RangeIndex: 104 entries, 0 to 103\n",
            "Data columns (total 21 columns):\n",
            " #   Column           Non-Null Count  Dtype \n",
            "---  ------           --------------  ----- \n",
            " 0   A1_Score         104 non-null    int64 \n",
            " 1   A2_Score         104 non-null    int64 \n",
            " 2   A3_Score         104 non-null    int64 \n",
            " 3   A4_Score         104 non-null    int64 \n",
            " 4   A5_Score         104 non-null    int64 \n",
            " 5   A6_Score         104 non-null    int64 \n",
            " 6   A7_Score         104 non-null    int64 \n",
            " 7   A8_Score         104 non-null    int64 \n",
            " 8   A9_Score         104 non-null    int64 \n",
            " 9   A10_Score        104 non-null    int64 \n",
            " 10  age              104 non-null    int64 \n",
            " 11  gender           104 non-null    object\n",
            " 12  ethnicity        104 non-null    object\n",
            " 13  jundice          104 non-null    object\n",
            " 14  austim           104 non-null    object\n",
            " 15  contry_of_res    104 non-null    object\n",
            " 16  used_app_before  104 non-null    object\n",
            " 17  result           104 non-null    int64 \n",
            " 18  age_desc         104 non-null    object\n",
            " 19  relation         104 non-null    object\n",
            " 20  Class/ASD        104 non-null    object\n",
            "dtypes: int64(12), object(9)\n",
            "memory usage: 17.2+ KB\n"
          ]
        }
      ]
    },
    {
      "cell_type": "code",
      "source": [
        "ASD_df.shape"
      ],
      "metadata": {
        "colab": {
          "base_uri": "https://localhost:8080/"
        },
        "id": "hlQXo2yxV4UB",
        "outputId": "b08cfcd9-cc16-4e26-e760-7bd7a5ef89f9"
      },
      "execution_count": null,
      "outputs": [
        {
          "output_type": "execute_result",
          "data": {
            "text/plain": [
              "(104, 21)"
            ]
          },
          "metadata": {},
          "execution_count": 5
        }
      ]
    },
    {
      "cell_type": "code",
      "source": [
        "import seaborn as sns \n",
        "\n",
        "plt.figure(figsize = (20,10))\n",
        "sns.heatmap(data = ASD_df.corr(), annot = True, cbar = True)"
      ],
      "metadata": {
        "colab": {
          "base_uri": "https://localhost:8080/",
          "height": 613
        },
        "id": "JOKHOM4zovxG",
        "outputId": "cc31ff48-2962-4b96-ebfc-2d18d73a09aa"
      },
      "execution_count": null,
      "outputs": [
        {
          "output_type": "execute_result",
          "data": {
            "text/plain": [
              "<matplotlib.axes._subplots.AxesSubplot at 0x7f2cf8418b50>"
            ]
          },
          "metadata": {},
          "execution_count": 6
        },
        {
          "output_type": "display_data",
          "data": {
            "image/png": "[encoded data removed]",
            "text/plain": [
              "<Figure size 1440x720 with 2 Axes>"
            ]
          },
          "metadata": {
            "needs_background": "light"
          }
        }
      ]
    },
    {
      "cell_type": "markdown",
      "source": [
        "#Data Preparation"
      ],
      "metadata": {
        "id": "Kb61JYHOygAs"
      }
    },
    {
      "cell_type": "markdown",
      "source": [
        "###Data Cleaning"
      ],
      "metadata": {
        "id": "XLranPE78dHE"
      }
    },
    {
      "cell_type": "markdown",
      "source": [
        "Some of the rows were marked as “?” in the columns Relation and Ethnicity. Those rows were replaced by “Others” as follows:\n"
      ],
      "metadata": {
        "id": "4tiD1RNj9-yJ"
      }
    },
    {
      "cell_type": "code",
      "source": [
        "ASD_df = ASD_df.replace(\"?\", \"Others\")"
      ],
      "metadata": {
        "id": "xM_hSbSA8mZL"
      },
      "execution_count": null,
      "outputs": []
    },
    {
      "cell_type": "markdown",
      "source": [
        "We converted the boolean values to binary values for the columns: gender, jundice, autism, used_app_before, result and Class/ASD. To do so the following code was used."
      ],
      "metadata": {
        "id": "VAyvWuh-97vo"
      }
    },
    {
      "cell_type": "code",
      "source": [
        "#Converting Booleans to binary\n",
        "\n",
        "ASD_df = ASD_df.replace(\"yes\", 1)\n",
        "ASD_df = ASD_df.replace(\"no\", 0)\n",
        "ASD_df = ASD_df.replace(\"f\", 1)\n",
        "ASD_df = ASD_df.replace(\"m\", 0)\n",
        "ASD_df = ASD_df.replace(\"YES\", 1)\n",
        "ASD_df = ASD_df.replace(\"NO\", 0)"
      ],
      "metadata": {
        "id": "BDQRjJv-AcO_"
      },
      "execution_count": null,
      "outputs": []
    },
    {
      "cell_type": "markdown",
      "source": [
        "###Data Pre-Processing"
      ],
      "metadata": {
        "id": "a_afXbwekjLQ"
      }
    },
    {
      "cell_type": "markdown",
      "source": [
        "There are a number of variables in our dataset that do not contribute to our analysis:\n",
        "\n",
        "\n",
        "*   ***Used_app_before*** : This variable indicates whether or not a person used the screening application previously. It is not a significant predictor of our target variable, so it will be removed as well.\n",
        "*  ***Age_desc*** : This variable categorizes an individual's age range. Our dataset contains mainly adolescents, this factor has only one level therefore it is insignificant in our analysis.\n",
        "*   ***Result*** : the result column is the sum of all A* scores and any result value of 7 or higher is always classified as Class ASD = YES. As a result of including this variable, the machine learning algorithms would essentially already know the outcome of the target variable. It will also be removed for the purposes of this analysis.\n",
        "*   ***Country_of_res*** : During the initial testing of the classification models, this variable had no significant impact on prediction accuracy. It is too large to be processed by certain classification functions within the R environment because it has more than 60 levels. As a result, it will be removed to ensure compatibility.\n",
        "\n",
        "\n",
        "\n"
      ],
      "metadata": {
        "id": "Yd_sn-vr-PXM"
      }
    },
    {
      "cell_type": "code",
      "source": [
        "ASD_df = ASD_df.drop([\"used_app_before\"], axis = 1)\n",
        "ASD_df = ASD_df.drop([\"age_desc\"], axis = 1)\n",
        "ASD_df = ASD_df.drop([\"result\"], axis = 1)\n",
        "ASD_df = ASD_df.drop([\"contry_of_res\"] , axis = 1)"
      ],
      "metadata": {
        "id": "ouZkKf5aBLJn"
      },
      "execution_count": null,
      "outputs": []
    },
    {
      "cell_type": "markdown",
      "source": [
        "Next, we'll need to convert the Pandas dataframes into numpy arrays that scikit-learn can use. Let's make an array that only contains the feature data we want to work with and another array that only contains the classes (class/ASD).\n"
      ],
      "metadata": {
        "id": "Pu66L_wo_Onc"
      }
    },
    {
      "cell_type": "code",
      "source": [
        "#Define X and Y \n",
        "X = ASD_df.drop(['Class/ASD'],1)\n",
        "Y = ASD_df['Class/ASD']"
      ],
      "metadata": {
        "colab": {
          "base_uri": "https://localhost:8080/"
        },
        "id": "s_cp9I9vjFTs",
        "outputId": "9626f4ee-9dc4-4ad6-beaa-e4c933afa96d"
      },
      "execution_count": null,
      "outputs": [
        {
          "output_type": "stream",
          "name": "stderr",
          "text": [
            "/usr/local/lib/python3.7/dist-packages/ipykernel_launcher.py:2: FutureWarning: In a future version of pandas all arguments of DataFrame.drop except for the argument 'labels' will be keyword-only\n",
            "  \n"
          ]
        }
      ]
    },
    {
      "cell_type": "markdown",
      "source": [
        "Because some models require normalized input data, we proceed to normalize the attribute data. Preprocessing is used in this case. MinMaxScaler().\n"
      ],
      "metadata": {
        "id": "dps5DgQG_TTE"
      }
    },
    {
      "cell_type": "code",
      "source": [
        "#Normalization using preprocessing.MinMaxScaler()\n",
        "\n",
        "from sklearn.preprocessing import MinMaxScaler\n",
        "\n",
        "scaler = MinMaxScaler()\n",
        "numerical = ['age']\n",
        "\n",
        "features_minmax_transform = pd.DataFrame(data = X)\n",
        "features_minmax_transform[numerical] = scaler.fit_transform(X[numerical])\n",
        "features_minmax_transform"
      ],
      "metadata": {
        "colab": {
          "base_uri": "https://localhost:8080/",
          "height": 467
        },
        "id": "U4E07UCV5vfE",
        "outputId": "ef19428e-9785-4f96-9d86-64c4472b66a9"
      },
      "execution_count": null,
      "outputs": [
        {
          "output_type": "execute_result",
          "data": {
            "text/html": [
              "\n",
              "  <div id=\"df-7746fda9-1e3a-48a6-8c6c-339e8113dcb8\">\n",
              "    <div class=\"colab-df-container\">\n",
              "      <div>\n",
              "<style scoped>\n",
              "    .dataframe tbody tr th:only-of-type {\n",
              "        vertical-align: middle;\n",
              "    }\n",
              "\n",
              "    .dataframe tbody tr th {\n",
              "        vertical-align: top;\n",
              "    }\n",
              "\n",
              "    .dataframe thead th {\n",
              "        text-align: right;\n",
              "    }\n",
              "</style>\n",
              "<table border=\"1\" class=\"dataframe\">\n",
              "  <thead>\n",
              "    <tr style=\"text-align: right;\">\n",
              "      <th></th>\n",
              "      <th>A1_Score</th>\n",
              "      <th>A2_Score</th>\n",
              "      <th>A3_Score</th>\n",
              "      <th>A4_Score</th>\n",
              "      <th>A5_Score</th>\n",
              "      <th>A6_Score</th>\n",
              "      <th>A7_Score</th>\n",
              "      <th>A8_Score</th>\n",
              "      <th>A9_Score</th>\n",
              "      <th>A10_Score</th>\n",
              "      <th>age</th>\n",
              "      <th>gender</th>\n",
              "      <th>ethnicity</th>\n",
              "      <th>jundice</th>\n",
              "      <th>austim</th>\n",
              "      <th>relation</th>\n",
              "    </tr>\n",
              "  </thead>\n",
              "  <tbody>\n",
              "    <tr>\n",
              "      <th>0</th>\n",
              "      <td>0</td>\n",
              "      <td>0</td>\n",
              "      <td>0</td>\n",
              "      <td>1</td>\n",
              "      <td>1</td>\n",
              "      <td>1</td>\n",
              "      <td>1</td>\n",
              "      <td>1</td>\n",
              "      <td>1</td>\n",
              "      <td>0</td>\n",
              "      <td>0.75</td>\n",
              "      <td>0</td>\n",
              "      <td>Hispanic</td>\n",
              "      <td>1</td>\n",
              "      <td>1</td>\n",
              "      <td>Parent</td>\n",
              "    </tr>\n",
              "    <tr>\n",
              "      <th>1</th>\n",
              "      <td>0</td>\n",
              "      <td>0</td>\n",
              "      <td>0</td>\n",
              "      <td>0</td>\n",
              "      <td>0</td>\n",
              "      <td>0</td>\n",
              "      <td>0</td>\n",
              "      <td>0</td>\n",
              "      <td>1</td>\n",
              "      <td>1</td>\n",
              "      <td>0.75</td>\n",
              "      <td>0</td>\n",
              "      <td>Black</td>\n",
              "      <td>0</td>\n",
              "      <td>0</td>\n",
              "      <td>Relative</td>\n",
              "    </tr>\n",
              "    <tr>\n",
              "      <th>2</th>\n",
              "      <td>0</td>\n",
              "      <td>0</td>\n",
              "      <td>0</td>\n",
              "      <td>0</td>\n",
              "      <td>0</td>\n",
              "      <td>0</td>\n",
              "      <td>0</td>\n",
              "      <td>0</td>\n",
              "      <td>1</td>\n",
              "      <td>1</td>\n",
              "      <td>0.00</td>\n",
              "      <td>1</td>\n",
              "      <td>Others</td>\n",
              "      <td>0</td>\n",
              "      <td>0</td>\n",
              "      <td>Others</td>\n",
              "    </tr>\n",
              "    <tr>\n",
              "      <th>3</th>\n",
              "      <td>0</td>\n",
              "      <td>1</td>\n",
              "      <td>1</td>\n",
              "      <td>1</td>\n",
              "      <td>1</td>\n",
              "      <td>1</td>\n",
              "      <td>0</td>\n",
              "      <td>1</td>\n",
              "      <td>1</td>\n",
              "      <td>0</td>\n",
              "      <td>0.50</td>\n",
              "      <td>1</td>\n",
              "      <td>White-European</td>\n",
              "      <td>0</td>\n",
              "      <td>0</td>\n",
              "      <td>Self</td>\n",
              "    </tr>\n",
              "    <tr>\n",
              "      <th>4</th>\n",
              "      <td>1</td>\n",
              "      <td>1</td>\n",
              "      <td>1</td>\n",
              "      <td>1</td>\n",
              "      <td>1</td>\n",
              "      <td>1</td>\n",
              "      <td>1</td>\n",
              "      <td>0</td>\n",
              "      <td>0</td>\n",
              "      <td>0</td>\n",
              "      <td>1.00</td>\n",
              "      <td>1</td>\n",
              "      <td>Others</td>\n",
              "      <td>0</td>\n",
              "      <td>0</td>\n",
              "      <td>Others</td>\n",
              "    </tr>\n",
              "    <tr>\n",
              "      <th>...</th>\n",
              "      <td>...</td>\n",
              "      <td>...</td>\n",
              "      <td>...</td>\n",
              "      <td>...</td>\n",
              "      <td>...</td>\n",
              "      <td>...</td>\n",
              "      <td>...</td>\n",
              "      <td>...</td>\n",
              "      <td>...</td>\n",
              "      <td>...</td>\n",
              "      <td>...</td>\n",
              "      <td>...</td>\n",
              "      <td>...</td>\n",
              "      <td>...</td>\n",
              "      <td>...</td>\n",
              "      <td>...</td>\n",
              "    </tr>\n",
              "    <tr>\n",
              "      <th>99</th>\n",
              "      <td>0</td>\n",
              "      <td>1</td>\n",
              "      <td>1</td>\n",
              "      <td>1</td>\n",
              "      <td>0</td>\n",
              "      <td>1</td>\n",
              "      <td>1</td>\n",
              "      <td>0</td>\n",
              "      <td>1</td>\n",
              "      <td>0</td>\n",
              "      <td>1.00</td>\n",
              "      <td>1</td>\n",
              "      <td>Middle Eastern</td>\n",
              "      <td>0</td>\n",
              "      <td>0</td>\n",
              "      <td>Parent</td>\n",
              "    </tr>\n",
              "    <tr>\n",
              "      <th>100</th>\n",
              "      <td>1</td>\n",
              "      <td>0</td>\n",
              "      <td>1</td>\n",
              "      <td>0</td>\n",
              "      <td>0</td>\n",
              "      <td>0</td>\n",
              "      <td>0</td>\n",
              "      <td>1</td>\n",
              "      <td>0</td>\n",
              "      <td>1</td>\n",
              "      <td>1.00</td>\n",
              "      <td>0</td>\n",
              "      <td>Asian</td>\n",
              "      <td>0</td>\n",
              "      <td>0</td>\n",
              "      <td>Parent</td>\n",
              "    </tr>\n",
              "    <tr>\n",
              "      <th>101</th>\n",
              "      <td>1</td>\n",
              "      <td>0</td>\n",
              "      <td>0</td>\n",
              "      <td>1</td>\n",
              "      <td>1</td>\n",
              "      <td>1</td>\n",
              "      <td>1</td>\n",
              "      <td>1</td>\n",
              "      <td>1</td>\n",
              "      <td>1</td>\n",
              "      <td>0.00</td>\n",
              "      <td>1</td>\n",
              "      <td>White-European</td>\n",
              "      <td>0</td>\n",
              "      <td>0</td>\n",
              "      <td>Self</td>\n",
              "    </tr>\n",
              "    <tr>\n",
              "      <th>102</th>\n",
              "      <td>1</td>\n",
              "      <td>1</td>\n",
              "      <td>0</td>\n",
              "      <td>1</td>\n",
              "      <td>1</td>\n",
              "      <td>0</td>\n",
              "      <td>0</td>\n",
              "      <td>0</td>\n",
              "      <td>1</td>\n",
              "      <td>1</td>\n",
              "      <td>0.25</td>\n",
              "      <td>1</td>\n",
              "      <td>White-European</td>\n",
              "      <td>0</td>\n",
              "      <td>0</td>\n",
              "      <td>Self</td>\n",
              "    </tr>\n",
              "    <tr>\n",
              "      <th>103</th>\n",
              "      <td>1</td>\n",
              "      <td>0</td>\n",
              "      <td>1</td>\n",
              "      <td>0</td>\n",
              "      <td>0</td>\n",
              "      <td>1</td>\n",
              "      <td>1</td>\n",
              "      <td>1</td>\n",
              "      <td>1</td>\n",
              "      <td>0</td>\n",
              "      <td>0.00</td>\n",
              "      <td>0</td>\n",
              "      <td>Asian</td>\n",
              "      <td>0</td>\n",
              "      <td>0</td>\n",
              "      <td>Parent</td>\n",
              "    </tr>\n",
              "  </tbody>\n",
              "</table>\n",
              "<p>104 rows × 16 columns</p>\n",
              "</div>\n",
              "      <button class=\"colab-df-convert\" onclick=\"convertToInteractive('df-7746fda9-1e3a-48a6-8c6c-339e8113dcb8')\"\n",
              "              title=\"Convert this dataframe to an interactive table.\"\n",
              "              style=\"display:none;\">\n",
              "        \n",
              "  <svg xmlns=\"http://www.w3.org/2000/svg\" height=\"24px\"viewBox=\"0 0 24 24\"\n",
              "       width=\"24px\">\n",
              "    <path d=\"M0 0h24v24H0V0z\" fill=\"none\"/>\n",
              "    <path d=\"M18.56 5.44l.94 2.06.94-2.06 2.06-.94-2.06-.94-.94-2.06-.94 2.06-2.06.94zm-11 1L8.5 8.5l.94-2.06 2.06-.94-2.06-.94L8.5 2.5l-.94 2.06-2.06.94zm10 10l.94 2.06.94-2.06 2.06-.94-2.06-.94-.94-2.06-.94 2.06-2.06.94z\"/><path d=\"M17.41 7.96l-1.37-1.37c-.4-.4-.92-.59-1.43-.59-.52 0-1.04.2-1.43.59L10.3 9.45l-7.72 7.72c-.78.78-.78 2.05 0 2.83L4 21.41c.39.39.9.59 1.41.59.51 0 1.02-.2 1.41-.59l7.78-7.78 2.81-2.81c.8-.78.8-2.07 0-2.86zM5.41 20L4 18.59l7.72-7.72 1.47 1.35L5.41 20z\"/>\n",
              "  </svg>\n",
              "      </button>\n",
              "      \n",
              "  <style>\n",
              "    .colab-df-container {\n",
              "      display:flex;\n",
              "      flex-wrap:wrap;\n",
              "      gap: 12px;\n",
              "    }\n",
              "\n",
              "    .colab-df-convert {\n",
              "      background-color: #E8F0FE;\n",
              "      border: none;\n",
              "      border-radius: 50%;\n",
              "      cursor: pointer;\n",
              "      display: none;\n",
              "      fill: #1967D2;\n",
              "      height: 32px;\n",
              "      padding: 0 0 0 0;\n",
              "      width: 32px;\n",
              "    }\n",
              "\n",
              "    .colab-df-convert:hover {\n",
              "      background-color: #E2EBFA;\n",
              "      box-shadow: 0px 1px 2px rgba(60, 64, 67, 0.3), 0px 1px 3px 1px rgba(60, 64, 67, 0.15);\n",
              "      fill: #174EA6;\n",
              "    }\n",
              "\n",
              "    [theme=dark] .colab-df-convert {\n",
              "      background-color: #3B4455;\n",
              "      fill: #D2E3FC;\n",
              "    }\n",
              "\n",
              "    [theme=dark] .colab-df-convert:hover {\n",
              "      background-color: #434B5C;\n",
              "      box-shadow: 0px 1px 3px 1px rgba(0, 0, 0, 0.15);\n",
              "      filter: drop-shadow(0px 1px 2px rgba(0, 0, 0, 0.3));\n",
              "      fill: #FFFFFF;\n",
              "    }\n",
              "  </style>\n",
              "\n",
              "      <script>\n",
              "        const buttonEl =\n",
              "          document.querySelector('#df-7746fda9-1e3a-48a6-8c6c-339e8113dcb8 button.colab-df-convert');\n",
              "        buttonEl.style.display =\n",
              "          google.colab.kernel.accessAllowed ? 'block' : 'none';\n",
              "\n",
              "        async function convertToInteractive(key) {\n",
              "          const element = document.querySelector('#df-7746fda9-1e3a-48a6-8c6c-339e8113dcb8');\n",
              "          const dataTable =\n",
              "            await google.colab.kernel.invokeFunction('convertToInteractive',\n",
              "                                                     [key], {});\n",
              "          if (!dataTable) return;\n",
              "\n",
              "          const docLinkHtml = 'Like what you see? Visit the ' +\n",
              "            '<a target=\"_blank\" href=https://colab.research.google.com/notebooks/data_table.ipynb>data table notebook</a>'\n",
              "            + ' to learn more about interactive tables.';\n",
              "          element.innerHTML = '';\n",
              "          dataTable['output_type'] = 'display_data';\n",
              "          await google.colab.output.renderOutput(dataTable, element);\n",
              "          const docLink = document.createElement('div');\n",
              "          docLink.innerHTML = docLinkHtml;\n",
              "          element.appendChild(docLink);\n",
              "        }\n",
              "      </script>\n",
              "    </div>\n",
              "  </div>\n",
              "  "
            ],
            "text/plain": [
              "     A1_Score  A2_Score  A3_Score  ...  jundice  austim  relation\n",
              "0           0         0         0  ...        1       1    Parent\n",
              "1           0         0         0  ...        0       0  Relative\n",
              "2           0         0         0  ...        0       0    Others\n",
              "3           0         1         1  ...        0       0      Self\n",
              "4           1         1         1  ...        0       0    Others\n",
              "..        ...       ...       ...  ...      ...     ...       ...\n",
              "99          0         1         1  ...        0       0    Parent\n",
              "100         1         0         1  ...        0       0    Parent\n",
              "101         1         0         0  ...        0       0      Self\n",
              "102         1         1         0  ...        0       0      Self\n",
              "103         1         0         1  ...        0       0    Parent\n",
              "\n",
              "[104 rows x 16 columns]"
            ]
          },
          "metadata": {},
          "execution_count": 11
        }
      ]
    },
    {
      "cell_type": "markdown",
      "source": [
        "Our dataset contains non-numeric features such as: ethnicity and relation. Typically, learning algorithms expect input to be numeric, which requires that categorical features be converted. To do so, we use one popular way to convert categorical variables, which is the one-hot encoding scheme that creates a dummy variable for each category of the non-numerical variables.\n"
      ],
      "metadata": {
        "id": "aACM9elx_VGf"
      }
    },
    {
      "cell_type": "code",
      "source": [
        "#One-Hot-Encoding\n",
        "features_final = pd.get_dummies(features_minmax_transform)\n",
        "\n",
        "features_final.head()"
      ],
      "metadata": {
        "colab": {
          "base_uri": "https://localhost:8080/",
          "height": 305
        },
        "id": "NEvXu_6J7hDq",
        "outputId": "a508ce09-3ed4-4fab-eafe-ff22d4279ae9"
      },
      "execution_count": null,
      "outputs": [
        {
          "output_type": "execute_result",
          "data": {
            "text/html": [
              "\n",
              "  <div id=\"df-70251b2f-ee13-4111-8df1-d1363ce4afa6\">\n",
              "    <div class=\"colab-df-container\">\n",
              "      <div>\n",
              "<style scoped>\n",
              "    .dataframe tbody tr th:only-of-type {\n",
              "        vertical-align: middle;\n",
              "    }\n",
              "\n",
              "    .dataframe tbody tr th {\n",
              "        vertical-align: top;\n",
              "    }\n",
              "\n",
              "    .dataframe thead th {\n",
              "        text-align: right;\n",
              "    }\n",
              "</style>\n",
              "<table border=\"1\" class=\"dataframe\">\n",
              "  <thead>\n",
              "    <tr style=\"text-align: right;\">\n",
              "      <th></th>\n",
              "      <th>A1_Score</th>\n",
              "      <th>A2_Score</th>\n",
              "      <th>A3_Score</th>\n",
              "      <th>A4_Score</th>\n",
              "      <th>A5_Score</th>\n",
              "      <th>A6_Score</th>\n",
              "      <th>A7_Score</th>\n",
              "      <th>A8_Score</th>\n",
              "      <th>A9_Score</th>\n",
              "      <th>A10_Score</th>\n",
              "      <th>age</th>\n",
              "      <th>gender</th>\n",
              "      <th>jundice</th>\n",
              "      <th>austim</th>\n",
              "      <th>ethnicity_Asian</th>\n",
              "      <th>ethnicity_Black</th>\n",
              "      <th>ethnicity_Hispanic</th>\n",
              "      <th>ethnicity_Latino</th>\n",
              "      <th>ethnicity_Middle Eastern</th>\n",
              "      <th>ethnicity_Others</th>\n",
              "      <th>ethnicity_South Asian</th>\n",
              "      <th>ethnicity_White-European</th>\n",
              "      <th>relation_Health care professional</th>\n",
              "      <th>relation_Others</th>\n",
              "      <th>relation_Parent</th>\n",
              "      <th>relation_Relative</th>\n",
              "      <th>relation_Self</th>\n",
              "    </tr>\n",
              "  </thead>\n",
              "  <tbody>\n",
              "    <tr>\n",
              "      <th>0</th>\n",
              "      <td>0</td>\n",
              "      <td>0</td>\n",
              "      <td>0</td>\n",
              "      <td>1</td>\n",
              "      <td>1</td>\n",
              "      <td>1</td>\n",
              "      <td>1</td>\n",
              "      <td>1</td>\n",
              "      <td>1</td>\n",
              "      <td>0</td>\n",
              "      <td>0.75</td>\n",
              "      <td>0</td>\n",
              "      <td>1</td>\n",
              "      <td>1</td>\n",
              "      <td>0</td>\n",
              "      <td>0</td>\n",
              "      <td>1</td>\n",
              "      <td>0</td>\n",
              "      <td>0</td>\n",
              "      <td>0</td>\n",
              "      <td>0</td>\n",
              "      <td>0</td>\n",
              "      <td>0</td>\n",
              "      <td>0</td>\n",
              "      <td>1</td>\n",
              "      <td>0</td>\n",
              "      <td>0</td>\n",
              "    </tr>\n",
              "    <tr>\n",
              "      <th>1</th>\n",
              "      <td>0</td>\n",
              "      <td>0</td>\n",
              "      <td>0</td>\n",
              "      <td>0</td>\n",
              "      <td>0</td>\n",
              "      <td>0</td>\n",
              "      <td>0</td>\n",
              "      <td>0</td>\n",
              "      <td>1</td>\n",
              "      <td>1</td>\n",
              "      <td>0.75</td>\n",
              "      <td>0</td>\n",
              "      <td>0</td>\n",
              "      <td>0</td>\n",
              "      <td>0</td>\n",
              "      <td>1</td>\n",
              "      <td>0</td>\n",
              "      <td>0</td>\n",
              "      <td>0</td>\n",
              "      <td>0</td>\n",
              "      <td>0</td>\n",
              "      <td>0</td>\n",
              "      <td>0</td>\n",
              "      <td>0</td>\n",
              "      <td>0</td>\n",
              "      <td>1</td>\n",
              "      <td>0</td>\n",
              "    </tr>\n",
              "    <tr>\n",
              "      <th>2</th>\n",
              "      <td>0</td>\n",
              "      <td>0</td>\n",
              "      <td>0</td>\n",
              "      <td>0</td>\n",
              "      <td>0</td>\n",
              "      <td>0</td>\n",
              "      <td>0</td>\n",
              "      <td>0</td>\n",
              "      <td>1</td>\n",
              "      <td>1</td>\n",
              "      <td>0.00</td>\n",
              "      <td>1</td>\n",
              "      <td>0</td>\n",
              "      <td>0</td>\n",
              "      <td>0</td>\n",
              "      <td>0</td>\n",
              "      <td>0</td>\n",
              "      <td>0</td>\n",
              "      <td>0</td>\n",
              "      <td>1</td>\n",
              "      <td>0</td>\n",
              "      <td>0</td>\n",
              "      <td>0</td>\n",
              "      <td>1</td>\n",
              "      <td>0</td>\n",
              "      <td>0</td>\n",
              "      <td>0</td>\n",
              "    </tr>\n",
              "    <tr>\n",
              "      <th>3</th>\n",
              "      <td>0</td>\n",
              "      <td>1</td>\n",
              "      <td>1</td>\n",
              "      <td>1</td>\n",
              "      <td>1</td>\n",
              "      <td>1</td>\n",
              "      <td>0</td>\n",
              "      <td>1</td>\n",
              "      <td>1</td>\n",
              "      <td>0</td>\n",
              "      <td>0.50</td>\n",
              "      <td>1</td>\n",
              "      <td>0</td>\n",
              "      <td>0</td>\n",
              "      <td>0</td>\n",
              "      <td>0</td>\n",
              "      <td>0</td>\n",
              "      <td>0</td>\n",
              "      <td>0</td>\n",
              "      <td>0</td>\n",
              "      <td>0</td>\n",
              "      <td>1</td>\n",
              "      <td>0</td>\n",
              "      <td>0</td>\n",
              "      <td>0</td>\n",
              "      <td>0</td>\n",
              "      <td>1</td>\n",
              "    </tr>\n",
              "    <tr>\n",
              "      <th>4</th>\n",
              "      <td>1</td>\n",
              "      <td>1</td>\n",
              "      <td>1</td>\n",
              "      <td>1</td>\n",
              "      <td>1</td>\n",
              "      <td>1</td>\n",
              "      <td>1</td>\n",
              "      <td>0</td>\n",
              "      <td>0</td>\n",
              "      <td>0</td>\n",
              "      <td>1.00</td>\n",
              "      <td>1</td>\n",
              "      <td>0</td>\n",
              "      <td>0</td>\n",
              "      <td>0</td>\n",
              "      <td>0</td>\n",
              "      <td>0</td>\n",
              "      <td>0</td>\n",
              "      <td>0</td>\n",
              "      <td>1</td>\n",
              "      <td>0</td>\n",
              "      <td>0</td>\n",
              "      <td>0</td>\n",
              "      <td>1</td>\n",
              "      <td>0</td>\n",
              "      <td>0</td>\n",
              "      <td>0</td>\n",
              "    </tr>\n",
              "  </tbody>\n",
              "</table>\n",
              "</div>\n",
              "      <button class=\"colab-df-convert\" onclick=\"convertToInteractive('df-70251b2f-ee13-4111-8df1-d1363ce4afa6')\"\n",
              "              title=\"Convert this dataframe to an interactive table.\"\n",
              "              style=\"display:none;\">\n",
              "        \n",
              "  <svg xmlns=\"http://www.w3.org/2000/svg\" height=\"24px\"viewBox=\"0 0 24 24\"\n",
              "       width=\"24px\">\n",
              "    <path d=\"M0 0h24v24H0V0z\" fill=\"none\"/>\n",
              "    <path d=\"M18.56 5.44l.94 2.06.94-2.06 2.06-.94-2.06-.94-.94-2.06-.94 2.06-2.06.94zm-11 1L8.5 8.5l.94-2.06 2.06-.94-2.06-.94L8.5 2.5l-.94 2.06-2.06.94zm10 10l.94 2.06.94-2.06 2.06-.94-2.06-.94-.94-2.06-.94 2.06-2.06.94z\"/><path d=\"M17.41 7.96l-1.37-1.37c-.4-.4-.92-.59-1.43-.59-.52 0-1.04.2-1.43.59L10.3 9.45l-7.72 7.72c-.78.78-.78 2.05 0 2.83L4 21.41c.39.39.9.59 1.41.59.51 0 1.02-.2 1.41-.59l7.78-7.78 2.81-2.81c.8-.78.8-2.07 0-2.86zM5.41 20L4 18.59l7.72-7.72 1.47 1.35L5.41 20z\"/>\n",
              "  </svg>\n",
              "      </button>\n",
              "      \n",
              "  <style>\n",
              "    .colab-df-container {\n",
              "      display:flex;\n",
              "      flex-wrap:wrap;\n",
              "      gap: 12px;\n",
              "    }\n",
              "\n",
              "    .colab-df-convert {\n",
              "      background-color: #E8F0FE;\n",
              "      border: none;\n",
              "      border-radius: 50%;\n",
              "      cursor: pointer;\n",
              "      display: none;\n",
              "      fill: #1967D2;\n",
              "      height: 32px;\n",
              "      padding: 0 0 0 0;\n",
              "      width: 32px;\n",
              "    }\n",
              "\n",
              "    .colab-df-convert:hover {\n",
              "      background-color: #E2EBFA;\n",
              "      box-shadow: 0px 1px 2px rgba(60, 64, 67, 0.3), 0px 1px 3px 1px rgba(60, 64, 67, 0.15);\n",
              "      fill: #174EA6;\n",
              "    }\n",
              "\n",
              "    [theme=dark] .colab-df-convert {\n",
              "      background-color: #3B4455;\n",
              "      fill: #D2E3FC;\n",
              "    }\n",
              "\n",
              "    [theme=dark] .colab-df-convert:hover {\n",
              "      background-color: #434B5C;\n",
              "      box-shadow: 0px 1px 3px 1px rgba(0, 0, 0, 0.15);\n",
              "      filter: drop-shadow(0px 1px 2px rgba(0, 0, 0, 0.3));\n",
              "      fill: #FFFFFF;\n",
              "    }\n",
              "  </style>\n",
              "\n",
              "      <script>\n",
              "        const buttonEl =\n",
              "          document.querySelector('#df-70251b2f-ee13-4111-8df1-d1363ce4afa6 button.colab-df-convert');\n",
              "        buttonEl.style.display =\n",
              "          google.colab.kernel.accessAllowed ? 'block' : 'none';\n",
              "\n",
              "        async function convertToInteractive(key) {\n",
              "          const element = document.querySelector('#df-70251b2f-ee13-4111-8df1-d1363ce4afa6');\n",
              "          const dataTable =\n",
              "            await google.colab.kernel.invokeFunction('convertToInteractive',\n",
              "                                                     [key], {});\n",
              "          if (!dataTable) return;\n",
              "\n",
              "          const docLinkHtml = 'Like what you see? Visit the ' +\n",
              "            '<a target=\"_blank\" href=https://colab.research.google.com/notebooks/data_table.ipynb>data table notebook</a>'\n",
              "            + ' to learn more about interactive tables.';\n",
              "          element.innerHTML = '';\n",
              "          dataTable['output_type'] = 'display_data';\n",
              "          await google.colab.output.renderOutput(dataTable, element);\n",
              "          const docLink = document.createElement('div');\n",
              "          docLink.innerHTML = docLinkHtml;\n",
              "          element.appendChild(docLink);\n",
              "        }\n",
              "      </script>\n",
              "    </div>\n",
              "  </div>\n",
              "  "
            ],
            "text/plain": [
              "   A1_Score  A2_Score  ...  relation_Relative  relation_Self\n",
              "0         0         0  ...                  0              0\n",
              "1         0         0  ...                  1              0\n",
              "2         0         0  ...                  0              0\n",
              "3         0         1  ...                  0              1\n",
              "4         1         1  ...                  0              0\n",
              "\n",
              "[5 rows x 27 columns]"
            ]
          },
          "metadata": {},
          "execution_count": 12
        }
      ]
    },
    {
      "cell_type": "code",
      "source": [
        "#number of features after one-hot encoding\n",
        "encoded = list(features_final.columns)\n",
        "print (\"{} total features after one-hot encoding.\".format(len(encoded)))"
      ],
      "metadata": {
        "colab": {
          "base_uri": "https://localhost:8080/"
        },
        "id": "zHKuPwCp9DqM",
        "outputId": "d7aae614-baa5-4e1e-e359-445bfff85b2e"
      },
      "execution_count": null,
      "outputs": [
        {
          "output_type": "stream",
          "name": "stdout",
          "text": [
            "27 total features after one-hot encoding.\n"
          ]
        }
      ]
    },
    {
      "cell_type": "code",
      "source": [
        "#Dataframes for Modeling\n",
        "X_Final = features_final\n",
        "Y_Final = Y"
      ],
      "metadata": {
        "id": "bISTFCEzCJ2r"
      },
      "execution_count": null,
      "outputs": []
    },
    {
      "cell_type": "markdown",
      "source": [
        "###Data Exploration"
      ],
      "metadata": {
        "id": "y9Nv4u4iw7XF"
      }
    },
    {
      "cell_type": "code",
      "source": [
        "# histogram of Class/ASD\n",
        "\n",
        "plt.hist(ASD_df['Class/ASD'], bins=10)\n",
        "plt.xlim(0,1)\n",
        "plt.title('Class/ASD')\n",
        "plt.xlabel('Class/ASD')\n",
        "plt.ylabel('Frequency')"
      ],
      "metadata": {
        "colab": {
          "base_uri": "https://localhost:8080/",
          "height": 312
        },
        "id": "3mX-o7N59YIb",
        "outputId": "f24460c6-f3af-4382-fccc-b69b32963de3"
      },
      "execution_count": null,
      "outputs": [
        {
          "output_type": "execute_result",
          "data": {
            "text/plain": [
              "Text(0, 0.5, 'Frequency')"
            ]
          },
          "metadata": {},
          "execution_count": 15
        },
        {
          "output_type": "display_data",
          "data": {
            "image/png": "[encoded data removed]",
            "text/plain": [
              "<Figure size 432x288 with 1 Axes>"
            ]
          },
          "metadata": {
            "needs_background": "light"
          }
        }
      ]
    },
    {
      "cell_type": "markdown",
      "source": [
        "Dataset has bias. Majority are classified as positive\n",
        "\n"
      ],
      "metadata": {
        "id": "Ye1LCl2fgNZm"
      }
    },
    {
      "cell_type": "code",
      "source": [
        "ASD_df['ethnicity'].value_counts().plot(kind=\"bar\")\n",
        "\n",
        "plt.show()"
      ],
      "metadata": {
        "colab": {
          "base_uri": "https://localhost:8080/",
          "height": 335
        },
        "id": "B_o9C3q0gkRp",
        "outputId": "794927c1-195f-43b4-dbea-c71a169d2d24"
      },
      "execution_count": null,
      "outputs": [
        {
          "output_type": "display_data",
          "data": {
            "image/png": "[encoded data removed]",
            "text/plain": [
              "<Figure size 432x288 with 1 Axes>"
            ]
          },
          "metadata": {
            "needs_background": "light"
          }
        }
      ]
    },
    {
      "cell_type": "code",
      "source": [
        "ASD_df['relation'].value_counts().plot(kind=\"bar\")\n",
        "\n",
        "plt.show()"
      ],
      "metadata": {
        "colab": {
          "base_uri": "https://localhost:8080/",
          "height": 377
        },
        "id": "ng0qs16VtCAy",
        "outputId": "505a7554-daf2-4196-be63-a47059c9b200"
      },
      "execution_count": null,
      "outputs": [
        {
          "output_type": "display_data",
          "data": {
            "image/png": "[encoded data removed]",
            "text/plain": [
              "<Figure size 432x288 with 1 Axes>"
            ]
          },
          "metadata": {
            "needs_background": "light"
          }
        }
      ]
    },
    {
      "cell_type": "code",
      "source": [
        "pd.DataFrame(X_Final.corrwith(Y_Final))"
      ],
      "metadata": {
        "colab": {
          "base_uri": "https://localhost:8080/",
          "height": 896
        },
        "id": "KetVkeShtiFt",
        "outputId": "53b21839-bd33-44e6-cd40-590c4b7b37a4"
      },
      "execution_count": null,
      "outputs": [
        {
          "output_type": "execute_result",
          "data": {
            "text/html": [
              "\n",
              "  <div id=\"df-644e445f-922d-4d7a-9468-785123c207d0\">\n",
              "    <div class=\"colab-df-container\">\n",
              "      <div>\n",
              "<style scoped>\n",
              "    .dataframe tbody tr th:only-of-type {\n",
              "        vertical-align: middle;\n",
              "    }\n",
              "\n",
              "    .dataframe tbody tr th {\n",
              "        vertical-align: top;\n",
              "    }\n",
              "\n",
              "    .dataframe thead th {\n",
              "        text-align: right;\n",
              "    }\n",
              "</style>\n",
              "<table border=\"1\" class=\"dataframe\">\n",
              "  <thead>\n",
              "    <tr style=\"text-align: right;\">\n",
              "      <th></th>\n",
              "      <th>0</th>\n",
              "    </tr>\n",
              "  </thead>\n",
              "  <tbody>\n",
              "    <tr>\n",
              "      <th>A1_Score</th>\n",
              "      <td>0.175731</td>\n",
              "    </tr>\n",
              "    <tr>\n",
              "      <th>A2_Score</th>\n",
              "      <td>0.200381</td>\n",
              "    </tr>\n",
              "    <tr>\n",
              "      <th>A3_Score</th>\n",
              "      <td>0.488349</td>\n",
              "    </tr>\n",
              "    <tr>\n",
              "      <th>A4_Score</th>\n",
              "      <td>0.506677</td>\n",
              "    </tr>\n",
              "    <tr>\n",
              "      <th>A5_Score</th>\n",
              "      <td>0.533919</td>\n",
              "    </tr>\n",
              "    <tr>\n",
              "      <th>A6_Score</th>\n",
              "      <td>0.445450</td>\n",
              "    </tr>\n",
              "    <tr>\n",
              "      <th>A7_Score</th>\n",
              "      <td>0.326410</td>\n",
              "    </tr>\n",
              "    <tr>\n",
              "      <th>A8_Score</th>\n",
              "      <td>0.413770</td>\n",
              "    </tr>\n",
              "    <tr>\n",
              "      <th>A9_Score</th>\n",
              "      <td>0.401178</td>\n",
              "    </tr>\n",
              "    <tr>\n",
              "      <th>A10_Score</th>\n",
              "      <td>0.488349</td>\n",
              "    </tr>\n",
              "    <tr>\n",
              "      <th>age</th>\n",
              "      <td>0.106816</td>\n",
              "    </tr>\n",
              "    <tr>\n",
              "      <th>gender</th>\n",
              "      <td>0.129504</td>\n",
              "    </tr>\n",
              "    <tr>\n",
              "      <th>jundice</th>\n",
              "      <td>-0.037755</td>\n",
              "    </tr>\n",
              "    <tr>\n",
              "      <th>austim</th>\n",
              "      <td>-0.027715</td>\n",
              "    </tr>\n",
              "    <tr>\n",
              "      <th>ethnicity_Asian</th>\n",
              "      <td>-0.092289</td>\n",
              "    </tr>\n",
              "    <tr>\n",
              "      <th>ethnicity_Black</th>\n",
              "      <td>-0.062480</td>\n",
              "    </tr>\n",
              "    <tr>\n",
              "      <th>ethnicity_Hispanic</th>\n",
              "      <td>-0.094628</td>\n",
              "    </tr>\n",
              "    <tr>\n",
              "      <th>ethnicity_Latino</th>\n",
              "      <td>-0.002653</td>\n",
              "    </tr>\n",
              "    <tr>\n",
              "      <th>ethnicity_Middle Eastern</th>\n",
              "      <td>-0.101609</td>\n",
              "    </tr>\n",
              "    <tr>\n",
              "      <th>ethnicity_Others</th>\n",
              "      <td>0.005001</td>\n",
              "    </tr>\n",
              "    <tr>\n",
              "      <th>ethnicity_South Asian</th>\n",
              "      <td>-0.096081</td>\n",
              "    </tr>\n",
              "    <tr>\n",
              "      <th>ethnicity_White-European</th>\n",
              "      <td>0.233329</td>\n",
              "    </tr>\n",
              "    <tr>\n",
              "      <th>relation_Health care professional</th>\n",
              "      <td>0.115223</td>\n",
              "    </tr>\n",
              "    <tr>\n",
              "      <th>relation_Others</th>\n",
              "      <td>-0.241573</td>\n",
              "    </tr>\n",
              "    <tr>\n",
              "      <th>relation_Parent</th>\n",
              "      <td>0.007954</td>\n",
              "    </tr>\n",
              "    <tr>\n",
              "      <th>relation_Relative</th>\n",
              "      <td>0.085200</td>\n",
              "    </tr>\n",
              "    <tr>\n",
              "      <th>relation_Self</th>\n",
              "      <td>0.029403</td>\n",
              "    </tr>\n",
              "  </tbody>\n",
              "</table>\n",
              "</div>\n",
              "      <button class=\"colab-df-convert\" onclick=\"convertToInteractive('df-644e445f-922d-4d7a-9468-785123c207d0')\"\n",
              "              title=\"Convert this dataframe to an interactive table.\"\n",
              "              style=\"display:none;\">\n",
              "        \n",
              "  <svg xmlns=\"http://www.w3.org/2000/svg\" height=\"24px\"viewBox=\"0 0 24 24\"\n",
              "       width=\"24px\">\n",
              "    <path d=\"M0 0h24v24H0V0z\" fill=\"none\"/>\n",
              "    <path d=\"M18.56 5.44l.94 2.06.94-2.06 2.06-.94-2.06-.94-.94-2.06-.94 2.06-2.06.94zm-11 1L8.5 8.5l.94-2.06 2.06-.94-2.06-.94L8.5 2.5l-.94 2.06-2.06.94zm10 10l.94 2.06.94-2.06 2.06-.94-2.06-.94-.94-2.06-.94 2.06-2.06.94z\"/><path d=\"M17.41 7.96l-1.37-1.37c-.4-.4-.92-.59-1.43-.59-.52 0-1.04.2-1.43.59L10.3 9.45l-7.72 7.72c-.78.78-.78 2.05 0 2.83L4 21.41c.39.39.9.59 1.41.59.51 0 1.02-.2 1.41-.59l7.78-7.78 2.81-2.81c.8-.78.8-2.07 0-2.86zM5.41 20L4 18.59l7.72-7.72 1.47 1.35L5.41 20z\"/>\n",
              "  </svg>\n",
              "      </button>\n",
              "      \n",
              "  <style>\n",
              "    .colab-df-container {\n",
              "      display:flex;\n",
              "      flex-wrap:wrap;\n",
              "      gap: 12px;\n",
              "    }\n",
              "\n",
              "    .colab-df-convert {\n",
              "      background-color: #E8F0FE;\n",
              "      border: none;\n",
              "      border-radius: 50%;\n",
              "      cursor: pointer;\n",
              "      display: none;\n",
              "      fill: #1967D2;\n",
              "      height: 32px;\n",
              "      padding: 0 0 0 0;\n",
              "      width: 32px;\n",
              "    }\n",
              "\n",
              "    .colab-df-convert:hover {\n",
              "      background-color: #E2EBFA;\n",
              "      box-shadow: 0px 1px 2px rgba(60, 64, 67, 0.3), 0px 1px 3px 1px rgba(60, 64, 67, 0.15);\n",
              "      fill: #174EA6;\n",
              "    }\n",
              "\n",
              "    [theme=dark] .colab-df-convert {\n",
              "      background-color: #3B4455;\n",
              "      fill: #D2E3FC;\n",
              "    }\n",
              "\n",
              "    [theme=dark] .colab-df-convert:hover {\n",
              "      background-color: #434B5C;\n",
              "      box-shadow: 0px 1px 3px 1px rgba(0, 0, 0, 0.15);\n",
              "      filter: drop-shadow(0px 1px 2px rgba(0, 0, 0, 0.3));\n",
              "      fill: #FFFFFF;\n",
              "    }\n",
              "  </style>\n",
              "\n",
              "      <script>\n",
              "        const buttonEl =\n",
              "          document.querySelector('#df-644e445f-922d-4d7a-9468-785123c207d0 button.colab-df-convert');\n",
              "        buttonEl.style.display =\n",
              "          google.colab.kernel.accessAllowed ? 'block' : 'none';\n",
              "\n",
              "        async function convertToInteractive(key) {\n",
              "          const element = document.querySelector('#df-644e445f-922d-4d7a-9468-785123c207d0');\n",
              "          const dataTable =\n",
              "            await google.colab.kernel.invokeFunction('convertToInteractive',\n",
              "                                                     [key], {});\n",
              "          if (!dataTable) return;\n",
              "\n",
              "          const docLinkHtml = 'Like what you see? Visit the ' +\n",
              "            '<a target=\"_blank\" href=https://colab.research.google.com/notebooks/data_table.ipynb>data table notebook</a>'\n",
              "            + ' to learn more about interactive tables.';\n",
              "          element.innerHTML = '';\n",
              "          dataTable['output_type'] = 'display_data';\n",
              "          await google.colab.output.renderOutput(dataTable, element);\n",
              "          const docLink = document.createElement('div');\n",
              "          docLink.innerHTML = docLinkHtml;\n",
              "          element.appendChild(docLink);\n",
              "        }\n",
              "      </script>\n",
              "    </div>\n",
              "  </div>\n",
              "  "
            ],
            "text/plain": [
              "                                          0\n",
              "A1_Score                           0.175731\n",
              "A2_Score                           0.200381\n",
              "A3_Score                           0.488349\n",
              "A4_Score                           0.506677\n",
              "A5_Score                           0.533919\n",
              "A6_Score                           0.445450\n",
              "A7_Score                           0.326410\n",
              "A8_Score                           0.413770\n",
              "A9_Score                           0.401178\n",
              "A10_Score                          0.488349\n",
              "age                                0.106816\n",
              "gender                             0.129504\n",
              "jundice                           -0.037755\n",
              "austim                            -0.027715\n",
              "ethnicity_Asian                   -0.092289\n",
              "ethnicity_Black                   -0.062480\n",
              "ethnicity_Hispanic                -0.094628\n",
              "ethnicity_Latino                  -0.002653\n",
              "ethnicity_Middle Eastern          -0.101609\n",
              "ethnicity_Others                   0.005001\n",
              "ethnicity_South Asian             -0.096081\n",
              "ethnicity_White-European           0.233329\n",
              "relation_Health care professional  0.115223\n",
              "relation_Others                   -0.241573\n",
              "relation_Parent                    0.007954\n",
              "relation_Relative                  0.085200\n",
              "relation_Self                      0.029403"
            ]
          },
          "metadata": {},
          "execution_count": 18
        }
      ]
    },
    {
      "cell_type": "markdown",
      "source": [
        "#Modeling"
      ],
      "metadata": {
        "id": "j9i84-3rE6l2"
      }
    },
    {
      "cell_type": "markdown",
      "source": [
        "###Cost Function"
      ],
      "metadata": {
        "id": "JzJOAM8SD9Zu"
      }
    },
    {
      "cell_type": "markdown",
      "source": [
        "The two types of errors are:\n",
        "\n",
        "*   Type II Error or False positives (FP): Patient wrongly diagnosed with ASD. The cost of this error would take into account the expenses of the unnecessary treatments applied to the patient. The children are typically diagnosed at age 3 and receive a treatment before entering school at age 7. The cost for these 4 years of treatment can be estimated at 240,000 $ \n",
        "[link text](https://www.beaconhealthoptions.com/autisms-cost/#:~:text=A%20recent%20study%20estimates%20the,four%20years%20of%20treatment%3A%20%24240%2C000). \n",
        "\n",
        "*   Type I error or False negatives (FN): Patient wrongly diagnosed with no ASD. The cost of this error should take into account the treatment costs and compensation for the years where the patient wasn’t correctly diagnosed. We could estimate this cost to be the double of the false positive cost, hence 480,000 $.\n",
        "\n",
        "\\begin{align}\n",
        "        FP-FN Cost Ratio = \\frac{240,000}{480,000} = \\frac{1}{2}\n",
        "    \\end{align}\n",
        "So, in our case, our False Negative Cost is double the False Positive Cost\n",
        "\n",
        "\\begin{align}\n",
        "        C_{FN} = 2 * C_{FP} \n",
        "    \\end{align}\n",
        "\n",
        "From the above values we can conclude the threshold for our model through the folowing relation\n",
        "\n",
        "\\begin{align}\n",
        "        Threshold = \\frac{C_{FP}}{C_{FP}+C_{FN}}\n",
        "    \\end{align}\n"
      ],
      "metadata": {
        "id": "TRiekLX9_2R-"
      }
    },
    {
      "cell_type": "code",
      "source": [
        "def Cost_Function(y_pred , y_test):\n",
        "  FP = sum(y_pred[y_test == 0] == 1)\n",
        "  FN = sum(y_pred[y_test == 1] == 0)\n",
        "  return 240000*FP + 480000*FN"
      ],
      "metadata": {
        "id": "MZ88W0aiEBeV"
      },
      "execution_count": null,
      "outputs": []
    },
    {
      "cell_type": "code",
      "source": [
        "out = np.zeros((100,10))"
      ],
      "metadata": {
        "id": "p81fNGbFNW8i"
      },
      "execution_count": null,
      "outputs": []
    },
    {
      "cell_type": "markdown",
      "source": [
        "###Test Modeling (Without Cross-Validation)"
      ],
      "metadata": {
        "id": "wkHdyBJiuRI2"
      }
    },
    {
      "cell_type": "code",
      "source": [
        "from sklearn.model_selection import train_test_split\n",
        "\n",
        "X_train, X_test, y_train, y_test = train_test_split(X_Final, Y_Final, test_size=0.2, stratify = Y_Final)"
      ],
      "metadata": {
        "id": "G0UlMYg4DX6p"
      },
      "execution_count": null,
      "outputs": []
    },
    {
      "cell_type": "code",
      "source": [
        "from sklearn.linear_model import LogisticRegression\n",
        "\n",
        "Mod_Log = LogisticRegression()\n",
        "Mod_Log.fit(X_train, y_train)"
      ],
      "metadata": {
        "colab": {
          "base_uri": "https://localhost:8080/"
        },
        "id": "TEtDRXjXun6h",
        "outputId": "bcd5f095-ea4e-4d95-8ecc-68fb1e193197"
      },
      "execution_count": null,
      "outputs": [
        {
          "output_type": "execute_result",
          "data": {
            "text/plain": [
              "LogisticRegression()"
            ]
          },
          "metadata": {},
          "execution_count": 22
        }
      ]
    },
    {
      "cell_type": "code",
      "source": [
        "pred=Mod_Log.predict(X_test)\n"
      ],
      "metadata": {
        "id": "GHIUZfEfu4tl"
      },
      "execution_count": null,
      "outputs": []
    },
    {
      "cell_type": "code",
      "source": [
        "from sklearn.metrics import classification_report\n",
        "\n",
        "print(classification_report(y_true=y_test,y_pred=pred))"
      ],
      "metadata": {
        "colab": {
          "base_uri": "https://localhost:8080/"
        },
        "id": "HYVvbPvpu9Th",
        "outputId": "a0c3c675-14b7-41ee-9755-3322dcecc605"
      },
      "execution_count": null,
      "outputs": [
        {
          "output_type": "stream",
          "name": "stdout",
          "text": [
            "              precision    recall  f1-score   support\n",
            "\n",
            "           0       0.89      1.00      0.94         8\n",
            "           1       1.00      0.92      0.96        13\n",
            "\n",
            "    accuracy                           0.95        21\n",
            "   macro avg       0.94      0.96      0.95        21\n",
            "weighted avg       0.96      0.95      0.95        21\n",
            "\n"
          ]
        }
      ]
    },
    {
      "cell_type": "code",
      "source": [
        "from sklearn.metrics import confusion_matrix\n",
        "confusion_matrix(y_test,pred.round())"
      ],
      "metadata": {
        "colab": {
          "base_uri": "https://localhost:8080/"
        },
        "id": "buWitIbcvmLE",
        "outputId": "9aa21020-0b37-412f-d49c-fa93ba87674d"
      },
      "execution_count": null,
      "outputs": [
        {
          "output_type": "execute_result",
          "data": {
            "text/plain": [
              "array([[ 8,  0],\n",
              "       [ 1, 12]])"
            ]
          },
          "metadata": {},
          "execution_count": 25
        }
      ]
    },
    {
      "cell_type": "markdown",
      "source": [
        "###Thresholds"
      ],
      "metadata": {
        "id": "9qAm8Y24Q-nB"
      }
    },
    {
      "cell_type": "code",
      "source": [
        "# define 100 thresholds \n",
        "thresholds = np.arange(0.33, 1, 0.0067)"
      ],
      "metadata": {
        "id": "xqICSf5AOAZa"
      },
      "execution_count": null,
      "outputs": []
    },
    {
      "cell_type": "markdown",
      "source": [
        "###Fold Vector"
      ],
      "metadata": {
        "id": "cKlXOAlk5h9Y"
      }
    },
    {
      "cell_type": "code",
      "source": [
        "n = np.ceil(len(Y_Final) / 10)\n",
        "fold_vec = np.concatenate([np.arange(10)] * int(n))\n",
        "fold_vec = fold_vec[0:len(Y_Final)]\n",
        "np.random.seed(1)\n",
        "fold_vec = np.random.permutation(fold_vec)\n",
        "\n"
      ],
      "metadata": {
        "id": "27kALZItO_dk"
      },
      "execution_count": null,
      "outputs": []
    },
    {
      "cell_type": "markdown",
      "source": [
        "### F1 Scorer"
      ],
      "metadata": {
        "id": "Q7utZ-wPU6OW"
      }
    },
    {
      "cell_type": "code",
      "source": [
        "def get_f1(y_true, y_pred):\n",
        "\n",
        "  TP = sum(y_pred[(y_true == 1)] == 1)\n",
        "  FN = sum(y_pred[(y_true == 0)] == 1)\n",
        "  FP = sum(y_pred[(y_true == 1)] == 0)\n",
        "\n",
        "  precision = TP / (TP + FP)\n",
        "  recall = TP / (TP + FN)\n",
        "  \n",
        "  f1 = 2 * (precision * recall) / (precision + recall)\n",
        "\n",
        "  return f1\n"
      ],
      "metadata": {
        "id": "Ax5BqNU4VAbv"
      },
      "execution_count": null,
      "outputs": []
    },
    {
      "cell_type": "markdown",
      "source": [
        "###Cross Validation"
      ],
      "metadata": {
        "id": "1olxKx5N5NTK"
      }
    },
    {
      "cell_type": "code",
      "source": [
        "from sklearn.linear_model import LogisticRegression\n",
        "from sklearn.model_selection import train_test_split\n",
        "\n",
        "F1_Scores = np.zeros(10)\n",
        "\n",
        "for i in range(10):\n",
        "  test_i = fold_vec == i\n",
        "  train_i = fold_vec != i\n",
        "  \n",
        "  x_test = X_Final.iloc[test_i, :]\n",
        "  x_train = X_Final.iloc[train_i, :]\n",
        "  y_test = Y_Final[test_i]\n",
        "  y_train = Y_Final[train_i]\n",
        "  \n",
        "  mod = LogisticRegression()\n",
        "  mod.fit(x_train, y_train)\n",
        "  prob = mod.predict_proba(x_test)[:,1]\n",
        "  \n",
        "  print(f\"F1 Score for the fold no. {i+1} on the test set: {get_f1(y_test, mod.predict(x_test))}\")\n",
        "  F1_Scores[i] = get_f1(y_test,mod.predict(x_test))\n",
        "  \n",
        "  for j in range(100):\n",
        "    y_pred = prob >= thresholds[j]\n",
        "    cost = Cost_Function(y_pred,y_test)\n",
        "    out[j][i] = cost"
      ],
      "metadata": {
        "colab": {
          "base_uri": "https://localhost:8080/"
        },
        "id": "R5slACbGOd_k",
        "outputId": "8bd95ec4-b24b-4b59-9a04-590f7b0e3e8a"
      },
      "execution_count": null,
      "outputs": [
        {
          "output_type": "stream",
          "name": "stdout",
          "text": [
            "F1 Score for the fold no. 1 on the test set: 1.0\n",
            "F1 Score for the fold no. 2 on the test set: 0.9090909090909091\n",
            "F1 Score for the fold no. 3 on the test set: 0.9333333333333333\n",
            "F1 Score for the fold no. 4 on the test set: 0.9333333333333333\n",
            "F1 Score for the fold no. 5 on the test set: 0.9473684210526316\n",
            "F1 Score for the fold no. 6 on the test set: 1.0\n",
            "F1 Score for the fold no. 7 on the test set: 0.9090909090909091\n",
            "F1 Score for the fold no. 8 on the test set: 1.0\n",
            "F1 Score for the fold no. 9 on the test set: 0.8333333333333333\n",
            "F1 Score for the fold no. 10 on the test set: 1.0\n"
          ]
        }
      ]
    },
    {
      "cell_type": "code",
      "source": [
        "# CV performance\n",
        "\n",
        "np.mean(F1_Scores)"
      ],
      "metadata": {
        "id": "n75jszhxRUFw",
        "colab": {
          "base_uri": "https://localhost:8080/"
        },
        "outputId": "b636dbfa-35bc-4c53-f54b-e6088b407aea"
      },
      "execution_count": null,
      "outputs": [
        {
          "output_type": "execute_result",
          "data": {
            "text/plain": [
              "0.9465550239234451"
            ]
          },
          "metadata": {},
          "execution_count": 30
        }
      ]
    },
    {
      "cell_type": "code",
      "source": [
        "# Min Cost in each fold\n",
        "\n",
        "results = np.amin(out, axis = 0)\n",
        "for i in range(10):\n",
        "  print(f\"Min Cost for {i+1} fold is: {results[i]}\")"
      ],
      "metadata": {
        "colab": {
          "base_uri": "https://localhost:8080/"
        },
        "id": "_W0c8RZl5K-2",
        "outputId": "fea6f16b-de82-4a32-cd79-7edc5a657dd1"
      },
      "execution_count": null,
      "outputs": [
        {
          "output_type": "stream",
          "name": "stdout",
          "text": [
            "Min Cost for 1 fold is: 0.0\n",
            "Min Cost for 2 fold is: 0.0\n",
            "Min Cost for 3 fold is: 0.0\n",
            "Min Cost for 4 fold is: 0.0\n",
            "Min Cost for 5 fold is: 0.0\n",
            "Min Cost for 6 fold is: 0.0\n",
            "Min Cost for 7 fold is: 240000.0\n",
            "Min Cost for 8 fold is: 0.0\n",
            "Min Cost for 9 fold is: 240000.0\n",
            "Min Cost for 10 fold is: 0.0\n"
          ]
        }
      ]
    },
    {
      "cell_type": "code",
      "source": [
        "#Optimal Threshold\n",
        "\n",
        "print(\"Our Optimal Threshold is:\" , round(thresholds[np.argmin(out)],2), \"with a cost of:\" , np.amin(out))"
      ],
      "metadata": {
        "colab": {
          "base_uri": "https://localhost:8080/"
        },
        "id": "nMIjf7dXxHhA",
        "outputId": "6bded893-55cc-451e-9c01-7836358bb90f"
      },
      "execution_count": null,
      "outputs": [
        {
          "output_type": "stream",
          "name": "stdout",
          "text": [
            "Our Optimal Threshold is: 0.36 with a cost of: 0.0\n"
          ]
        }
      ]
    },
    {
      "cell_type": "code",
      "source": [
        "%%shell\n",
        "jupyter nbconvert --to html /content/Assignment_2_Autism_Screening_Classification.ipynb"
      ],
      "metadata": {
        "colab": {
          "base_uri": "https://localhost:8080/"
        },
        "id": "cgpM5fDDk51b",
        "outputId": "fdcf842a-b9d0-4c6c-defc-060efeddb359"
      },
      "execution_count": null,
      "outputs": [
        {
          "output_type": "stream",
          "name": "stdout",
          "text": [
            "[NbConvertApp] Converting notebook /content/Assignment_2_Autism_Screening_Classification.ipynb to html\n",
            "[NbConvertApp] Writing 479222 bytes to /content/Assignment_2_Autism_Screening_Classification.html\n"
          ]
        },
        {
          "output_type": "execute_result",
          "data": {
            "text/plain": [
              ""
            ]
          },
          "metadata": {},
          "execution_count": 33
        }
      ]
    }
  ]
}